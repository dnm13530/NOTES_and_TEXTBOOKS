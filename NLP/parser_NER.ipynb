{
 "cells": [
  {
   "cell_type": "code",
   "execution_count": null,
   "metadata": {},
   "outputs": [
    {
     "name": "stdout",
     "output_type": "stream",
     "text": [
      "Entities: [('Barack Obama', 'PERSON'), ('44th', 'ORDINAL'), ('the United States', 'GPE'), ('Elon Musk', 'PERSON'), ('Tesla', 'ORG'), ('California', 'GPE')]\n",
      "of\n",
      "of\n",
      "Relationships: [('Obama', 'of', 'States'), ('Musk', 'of', 'Tesla')]\n"
     ]
    },
    {
     "ename": "",
     "evalue": "",
     "output_type": "error",
     "traceback": [
      "\u001b[1;31mThe Kernel crashed while executing code in the current cell or a previous cell. \n",
      "\u001b[1;31mPlease review the code in the cell(s) to identify a possible cause of the failure. \n",
      "\u001b[1;31mClick <a href='https://aka.ms/vscodeJupyterKernelCrash'>here</a> for more info. \n",
      "\u001b[1;31mView Jupyter <a href='command:jupyter.viewOutput'>log</a> for further details."
     ]
    }
   ],
   "source": [
    "#parser_with _ builtin _NER\n",
    "\n",
    "import spacy\n",
    "\n",
    "# Load spacy model\n",
    "nlp = spacy.load(\"en_core_web_sm\")\n",
    "\n",
    "# Input text\n",
    "text = \"Barack Obama, the 44th President of the United States, met with Elon Musk, the CEO of Tesla, in California.\"\n",
    "\n",
    "# Process text\n",
    "doc = nlp(text)\n",
    "\n",
    "# Extract Entities\n",
    "entities = [(ent.text, ent.label_) for ent in doc.ents]\n",
    "print(\"Entities:\", entities)\n",
    "\n",
    "# Extract Relationships using Dependency Parsing\n",
    "relationships = []\n",
    "for token in doc:\n",
    "    if token.dep_ in [\"appos\", \"prep\"]:\n",
    "        subj = [ancestor.text for ancestor in token.head.ancestors]\n",
    "        obj = [child.text for child in token.children if child.dep_ == \"pobj\"]\n",
    "        if subj and obj:\n",
    "            print(token.text)\n",
    "            relationships.append((subj[0], token.text, obj[0]))\n",
    "\n",
    "print(\"Relationships:\", relationships)\n"
   ]
  }
 ],
 "metadata": {
  "kernelspec": {
   "display_name": ".venv",
   "language": "python",
   "name": "python3"
  },
  "language_info": {
   "codemirror_mode": {
    "name": "ipython",
    "version": 3
   },
   "file_extension": ".py",
   "mimetype": "text/x-python",
   "name": "python",
   "nbconvert_exporter": "python",
   "pygments_lexer": "ipython3",
   "version": "3.11.9"
  }
 },
 "nbformat": 4,
 "nbformat_minor": 2
}
