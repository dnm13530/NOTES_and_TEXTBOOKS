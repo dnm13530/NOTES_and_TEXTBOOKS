{
 "cells": [
  {
   "cell_type": "code",
   "execution_count": null,
   "metadata": {},
   "outputs": [
    {
     "name": "stderr",
     "output_type": "stream",
     "text": [
      "[nltk_data] Downloading package punkt to\n",
      "[nltk_data]     C:\\Users\\HP\\AppData\\Roaming\\nltk_data...\n",
      "[nltk_data]   Package punkt is already up-to-date!\n",
      "[nltk_data] Downloading package punkt_tab to\n",
      "[nltk_data]     C:\\Users\\HP\\AppData\\Roaming\\nltk_data...\n",
      "[nltk_data]   Unzipping tokenizers\\punkt_tab.zip.\n",
      "[nltk_data] Downloading package stopwords to\n",
      "[nltk_data]     C:\\Users\\HP\\AppData\\Roaming\\nltk_data...\n",
      "[nltk_data]   Package stopwords is already up-to-date!\n"
     ]
    },
    {
     "name": "stdout",
     "output_type": "stream",
     "text": [
      "Scraping data, please wait...\n",
      "Scraped text: Name:High Neck Double Fold Full Sleeve Top Black Fabric:Lycra Sleeve Length:Long Sleeves Pattern:Solid Net Quantity (N):1 Sizes: S, M, L, XL Country of Origin:India Helpful (0) Helpful (0)...\n",
      "Preprocessed Tokens: ['name', 'high', 'neck', 'double', 'fold', 'full', 'sleeve', 'top', 'black', 'fabric', 'lycra', 'sleeve', 'length', 'long', 'sleeves', 'pattern', 'solid', 'net', 'quantity', 'n']...\n",
      "Positive Score: 0, Negative Score: 0\n"
     ]
    },
    {
     "ename": "",
     "evalue": "",
     "output_type": "error",
     "traceback": [
      "\u001b[1;31mThe Kernel crashed while executing code in the current cell or a previous cell. \n",
      "\u001b[1;31mPlease review the code in the cell(s) to identify a possible cause of the failure. \n",
      "\u001b[1;31mClick <a href='https://aka.ms/vscodeJupyterKernelCrash'>here</a> for more info. \n",
      "\u001b[1;31mView Jupyter <a href='command:jupyter.viewOutput'>log</a> for further details."
     ]
    }
   ],
   "source": [
    "import requests\n",
    "from bs4 import BeautifulSoup\n",
    "import nltk\n",
    "from nltk.corpus import stopwords\n",
    "from nltk.tokenize import word_tokenize\n",
    "\n",
    "# Download necessary NLTK data\n",
    "nltk.download('punkt')\n",
    "nltk.download('punkt_tab')\n",
    "nltk.download('stopwords')\n",
    "\n",
    "# Step 1: Scrape the website\n",
    "def scrape_website(url):\n",
    "    try:\n",
    "        response = requests.get(url)\n",
    "        response.raise_for_status()  # Ensure the request was successful\n",
    "        soup = BeautifulSoup(response.text, 'html.parser')\n",
    "\n",
    "        # Extract all text content\n",
    "        text = ' '.join([tag.get_text(strip=True) for tag in soup.find_all('p')])\n",
    "        return text\n",
    "    except requests.exceptions.RequestException as e:\n",
    "        print(f\"Error while fetching the webpage: {e}\")\n",
    "        return \"\"\n",
    "\n",
    "# Step 3: Preprocessing\n",
    "def preprocess_text(text):\n",
    "    try:\n",
    "        tokens = word_tokenize(text.lower())\n",
    "        stop_words = set(stopwords.words('english'))\n",
    "        filtered_tokens = [word for word in tokens if word.isalnum() and word not in stop_words]\n",
    "        return filtered_tokens\n",
    "    except Exception as e:\n",
    "        print(f\"Error during preprocessing: {e}\")\n",
    "        return []\n",
    "\n",
    "# Step 4: Bag of Words and Sentiment Scoring\n",
    "def sentiment_analysis(tokens):\n",
    "    positive_words = [\"good\", \"great\", \"excellent\", \"positive\", \"happy\", \"awesome\", \"fantastic\"]\n",
    "    negative_words = [\"bad\", \"poor\", \"terrible\", \"negative\", \"sad\", \"awful\", \"horrible\"]\n",
    "    positive_score = sum(word in positive_words for word in tokens)\n",
    "    negative_score = sum(word in negative_words for word in tokens)\n",
    "    return positive_score, negative_score\n",
    "\n",
    "# Main Function\n",
    "def main():\n",
    "    url = input(\"Enter the URL to scrape: \")\n",
    "    try:\n",
    "        print(\"Scraping data, please wait...\")\n",
    "        text = scrape_website(url)\n",
    "        if not text:\n",
    "            print(\"No data scraped from the webpage. Please check the URL.\")\n",
    "            return\n",
    "\n",
    "        print(f\"Scraped text: {text[:500]}...\")  # Display the first 500 characters for brevity\n",
    "\n",
    "        tokens = preprocess_text(text)\n",
    "        print(f\"Preprocessed Tokens: {tokens[:20]}...\")  # Display first 20 tokens\n",
    "\n",
    "        positive_score, negative_score = sentiment_analysis(tokens)\n",
    "        print(f\"Positive Score: {positive_score}, Negative Score: {negative_score}\")\n",
    "    except Exception as e:\n",
    "        print(f\"An unexpected error occurred: {e}\")\n",
    "\n",
    "if __name__ == \"__main__\":\n",
    "    main()\n"
   ]
  }
 ],
 "metadata": {
  "kernelspec": {
   "display_name": ".venv",
   "language": "python",
   "name": "python3"
  },
  "language_info": {
   "codemirror_mode": {
    "name": "ipython",
    "version": 3
   },
   "file_extension": ".py",
   "mimetype": "text/x-python",
   "name": "python",
   "nbconvert_exporter": "python",
   "pygments_lexer": "ipython3",
   "version": "3.11.9"
  }
 },
 "nbformat": 4,
 "nbformat_minor": 2
}
