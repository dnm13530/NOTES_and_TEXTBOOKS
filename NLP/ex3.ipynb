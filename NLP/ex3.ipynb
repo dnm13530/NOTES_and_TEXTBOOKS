{
 "cells": [
  {
   "cell_type": "code",
   "execution_count": null,
   "metadata": {},
   "outputs": [
    {
     "name": "stderr",
     "output_type": "stream",
     "text": [
      "[nltk_data] Downloading package punkt to\n",
      "[nltk_data]     C:\\Users\\HP\\AppData\\Roaming\\nltk_data...\n",
      "[nltk_data]   Package punkt is already up-to-date!\n",
      "[nltk_data] Downloading package punkt_tab to\n",
      "[nltk_data]     C:\\Users\\HP\\AppData\\Roaming\\nltk_data...\n",
      "[nltk_data]   Package punkt_tab is already up-to-date!\n",
      "[nltk_data] Downloading package stopwords to\n",
      "[nltk_data]     C:\\Users\\HP\\AppData\\Roaming\\nltk_data...\n",
      "[nltk_data]   Package stopwords is already up-to-date!\n"
     ]
    },
    {
     "name": "stdout",
     "output_type": "stream",
     "text": [
      "Scraping data, please wait...\n",
      "No data scraped from the webpage. Please check the URL.\n"
     ]
    },
    {
     "ename": "",
     "evalue": "",
     "output_type": "error",
     "traceback": [
      "\u001b[1;31mThe Kernel crashed while executing code in the current cell or a previous cell. \n",
      "\u001b[1;31mPlease review the code in the cell(s) to identify a possible cause of the failure. \n",
      "\u001b[1;31mClick <a href='https://aka.ms/vscodeJupyterKernelCrash'>here</a> for more info. \n",
      "\u001b[1;31mView Jupyter <a href='command:jupyter.viewOutput'>log</a> for further details."
     ]
    }
   ],
   "source": [
    "import requests\n",
    "from bs4 import BeautifulSoup\n",
    "import nltk\n",
    "from nltk.corpus import stopwords\n",
    "from nltk.tokenize import word_tokenize\n",
    "from selenium import webdriver\n",
    "from selenium.webdriver.common.by import By\n",
    "import time\n",
    "\n",
    "# Download necessary NLTK data\n",
    "nltk.download('punkt')\n",
    "nltk.download('punkt_tab')\n",
    "nltk.download('stopwords')\n",
    "\n",
    "# Step 1: Scrape the website\n",
    "def scrape_website(url):\n",
    "    try: \n",
    "        driver = webdriver.Chrome()  \n",
    "        driver.get(url)\n",
    "\n",
    "    # Allow some time for the page to load\n",
    "        time.sleep(5)  \n",
    "        # response = requests.get(url)\n",
    "        # response.raise_for_status()  # Ensure the request was successful\n",
    "        # soup = BeautifulSoup(response.text, 'html.parser')\n",
    "\n",
    "        # # Extract all text content\n",
    "        # text = ' '.join([tag.get_text(strip=True) for tag in soup.find_all('div')])\n",
    "        # return text\n",
    "\n",
    "        # reviews = ' '.join([tag.get_text()])\n",
    "        review_elements = driver.find_elements(By.CLASS_NAME, \"sc-ftTHYK hqYVzH\")  # Replace with actual class name\n",
    "        reviews = [review.text for review in review_elements]\n",
    "        driver.quit()\n",
    "        return reviews\n",
    "    except requests.exceptions.RequestException as e:\n",
    "        print(f\"Error while fetching the webpage: {e}\")\n",
    "        return \"\"\n",
    "\n",
    "# Step 3: Preprocessing\n",
    "def preprocess_text(text):\n",
    "    try:\n",
    "        tokens = word_tokenize(text.lower())\n",
    "        stop_words = set(stopwords.words('english'))\n",
    "        filtered_tokens = [word for word in tokens if word.isalnum() and word not in stop_words]\n",
    "        return filtered_tokens\n",
    "    except Exception as e:\n",
    "        print(f\"Error during preprocessing: {e}\")\n",
    "        return []\n",
    "\n",
    "# Step 4: Bag of Words and Sentiment Scoring\n",
    "def sentiment_analysis(tokens):\n",
    "    positive_words = [\"good\", \"great\", \"excellent\", \"positive\", \"happy\", \"awesome\", \"fantastic\"]\n",
    "    negative_words = [\"bad\", \"poor\", \"terrible\", \"negative\", \"sad\", \"awful\", \"horrible\"]\n",
    "    positive_score = sum(word in positive_words for word in tokens)\n",
    "    negative_score = sum(word in negative_words for word in tokens)\n",
    "    return positive_score, negative_score\n",
    "\n",
    "# Main Function\n",
    "def main():\n",
    "    url = input(\"Enter the URL to scrape: \")\n",
    "    try:\n",
    "        print(\"Scraping data, please wait...\")\n",
    "        text = scrape_website(url)\n",
    "        if not text:\n",
    "            print(\"No data scraped from the webpage. Please check the URL.\")\n",
    "            return\n",
    "\n",
    "        print(f\"Scraped text: {text[:500]}...\")  # Display the first 500 characters for brevity\n",
    "\n",
    "        tokens = preprocess_text(text)\n",
    "        print(f\"Preprocessed Tokens: {tokens[:20]}...\")  # Display first 20 tokens\n",
    "\n",
    "        positive_score, negative_score = sentiment_analysis(tokens)\n",
    "        print(f\"Positive Score: {positive_score}, Negative Score: {negative_score}\")\n",
    "    except Exception as e:\n",
    "        print(f\"An unexpected error occurred: {e}\")\n",
    "\n",
    "if __name__ == \"__main__\":\n",
    "    main()\n"
   ]
  }
 ],
 "metadata": {
  "kernelspec": {
   "display_name": ".venv",
   "language": "python",
   "name": "python3"
  },
  "language_info": {
   "codemirror_mode": {
    "name": "ipython",
    "version": 3
   },
   "file_extension": ".py",
   "mimetype": "text/x-python",
   "name": "python",
   "nbconvert_exporter": "python",
   "pygments_lexer": "ipython3",
   "version": "3.11.9"
  }
 },
 "nbformat": 4,
 "nbformat_minor": 2
}
