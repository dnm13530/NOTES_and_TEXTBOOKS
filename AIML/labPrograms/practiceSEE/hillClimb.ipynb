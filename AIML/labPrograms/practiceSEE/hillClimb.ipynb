{
 "cells": [
  {
   "cell_type": "code",
   "execution_count": 3,
   "metadata": {},
   "outputs": [
    {
     "name": "stdout",
     "output_type": "stream",
     "text": [
      "Maxima found at: 2.0000000000000107\n",
      "Max value: 4.0\n"
     ]
    },
    {
     "ename": "",
     "evalue": "",
     "output_type": "error",
     "traceback": [
      "\u001b[1;31mThe Kernel crashed while executing code in the current cell or a previous cell. \n",
      "\u001b[1;31mPlease review the code in the cell(s) to identify a possible cause of the failure. \n",
      "\u001b[1;31mClick <a href='https://aka.ms/vscodeJupyterKernelCrash'>here</a> for more info. \n",
      "\u001b[1;31mView Jupyter <a href='command:jupyter.viewOutput'>log</a> for further details."
     ]
    }
   ],
   "source": [
    "def hillClimb(start, func, step=0.01, num_iter=1000):\n",
    "    x = start\n",
    "    for _ in range(num_iter):\n",
    "        fx = func(x)\n",
    "        fx_pos = func(x + step)\n",
    "        fx_neg = func(x - step)\n",
    "\n",
    "        if fx_pos > fx and fx_pos >= fx_neg:\n",
    "            x = x + step\n",
    "        elif fx_neg > fx and fx_neg > fx_pos:\n",
    "            x = x - step\n",
    "        else:\n",
    "            break\n",
    "    return x, func(x)\n",
    "\n",
    "if __name__ == \"__main__\":\n",
    "    while True:\n",
    "        try:\n",
    "            # Prompt the user to only enter the function expression in terms of x\n",
    "            func_str = input(\"Enter the function in terms of x (e.g. 'x**2 - 3*x + 2'): \")\n",
    "            # Create the lambda function correctly by adding the colon\n",
    "            func = eval(\"lambda x: \" + func_str)\n",
    "            break\n",
    "        except Exception as e:\n",
    "            print(f\"Invalid function: {e}\")\n",
    "    \n",
    "    while True:\n",
    "        try:\n",
    "            start = float(input(\"Enter the start value: \"))\n",
    "            break\n",
    "        except ValueError:\n",
    "            print(\"Enter a valid float value.\")\n",
    "    \n",
    "    max_x, max_val = hillClimb(start, func)\n",
    "    print(f\"Maxima found at: {max_x}\")\n",
    "    print(f\"Max value: {max_val}\")"
   ]
  }
 ],
 "metadata": {
  "kernelspec": {
   "display_name": "Python 3",
   "language": "python",
   "name": "python3"
  },
  "language_info": {
   "codemirror_mode": {
    "name": "ipython",
    "version": 3
   },
   "file_extension": ".py",
   "mimetype": "text/x-python",
   "name": "python",
   "nbconvert_exporter": "python",
   "pygments_lexer": "ipython3",
   "version": "3.11.9"
  }
 },
 "nbformat": 4,
 "nbformat_minor": 2
}
