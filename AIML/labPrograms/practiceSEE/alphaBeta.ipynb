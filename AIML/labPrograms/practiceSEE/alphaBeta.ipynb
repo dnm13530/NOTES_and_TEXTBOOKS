{
 "cells": [
  {
   "cell_type": "code",
   "execution_count": 4,
   "metadata": {},
   "outputs": [
    {
     "name": "stdout",
     "output_type": "stream",
     "text": [
      "The optimal value is:  9\n"
     ]
    },
    {
     "ename": "",
     "evalue": "",
     "output_type": "error",
     "traceback": [
      "\u001b[1;31mThe Kernel crashed while executing code in the current cell or a previous cell. \n",
      "\u001b[1;31mPlease review the code in the cell(s) to identify a possible cause of the failure. \n",
      "\u001b[1;31mClick <a href='https://aka.ms/vscodeJupyterKernelCrash'>here</a> for more info. \n",
      "\u001b[1;31mView Jupyter <a href='command:jupyter.viewOutput'>log</a> for further details."
     ]
    }
   ],
   "source": [
    "MIN, MAX = -1000, 1000\n",
    "\n",
    "def minimax(depth, nodeIndex, maxiPlayer, values, alpha, beta) -> int:\n",
    "    if depth == 3:\n",
    "        return values[nodeIndex]\n",
    "    \n",
    "    if maxiPlayer:\n",
    "        best = MIN\n",
    "        for i in range(0, 2):\n",
    "            val = minimax(depth+1, nodeIndex*2+i, False, values, alpha, beta)\n",
    "            best = max(best, val)\n",
    "            alpha = max(alpha, best)\n",
    "\n",
    "            if beta <= alpha:\n",
    "                break\n",
    "        return best\n",
    "    \n",
    "    else:\n",
    "        best = MAX\n",
    "        for i in range(0, 2):\n",
    "            val = minimax(depth+1, nodeIndex*2+i, True, values, alpha, beta)\n",
    "            best = min(best, val)\n",
    "            alpha = min(alpha, best)\n",
    "\n",
    "            if beta <= alpha:\n",
    "                break\n",
    "        return best\n",
    "if __name__==\"__main__\":\n",
    "    values = [8, 9, 6, 9, 3, 7, 2, 5]\n",
    "    print(\"The optimal value is: \", minimax(0,0,True,values, MIN, MAX))\n"
   ]
  }
 ],
 "metadata": {
  "kernelspec": {
   "display_name": "Python 3",
   "language": "python",
   "name": "python3"
  },
  "language_info": {
   "codemirror_mode": {
    "name": "ipython",
    "version": 3
   },
   "file_extension": ".py",
   "mimetype": "text/x-python",
   "name": "python",
   "nbconvert_exporter": "python",
   "pygments_lexer": "ipython3",
   "version": "3.11.9"
  }
 },
 "nbformat": 4,
 "nbformat_minor": 2
}
