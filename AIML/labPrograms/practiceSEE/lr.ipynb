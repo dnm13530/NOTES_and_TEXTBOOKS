{
 "cells": [
  {
   "cell_type": "code",
   "execution_count": 16,
   "metadata": {},
   "outputs": [
    {
     "name": "stdout",
     "output_type": "stream",
     "text": [
      "Accuracy: 1.0000\n"
     ]
    },
    {
     "data": {
      "image/png": "[encoded data removed]",
      "text/plain": [
       "<Figure size 640x480 with 1 Axes>"
      ]
     },
     "metadata": {},
     "output_type": "display_data"
    },
    {
     "ename": "",
     "evalue": "",
     "output_type": "error",
     "traceback": [
      "\u001b[1;31mThe Kernel crashed while executing code in the current cell or a previous cell. \n",
      "\u001b[1;31mPlease review the code in the cell(s) to identify a possible cause of the failure. \n",
      "\u001b[1;31mClick <a href='https://aka.ms/vscodeJupyterKernelCrash'>here</a> for more info. \n",
      "\u001b[1;31mView Jupyter <a href='command:jupyter.viewOutput'>log</a> for further details."
     ]
    }
   ],
   "source": [
    "import numpy as np\n",
    "import matplotlib.pyplot as plt\n",
    "from sklearn.datasets import load_iris\n",
    "from sklearn.preprocessing import StandardScaler\n",
    "from sklearn.model_selection import train_test_split\n",
    "\n",
    "def sigmoid(z):\n",
    "    return 1.0/(1.0 + np.exp(-z))\n",
    "def cost_func(h, y):\n",
    "    return (-y*np.log(h) - (1-y)*np.log(1-h)).mean()\n",
    "def gradient(X, h, y):\n",
    "    # Compute the gradient: (X^T * (h - y)) / N\n",
    "    return np.dot(X.T, (h - y)) / y.shape[0]\n",
    "    \n",
    "def logistic_reg(X, y, no_iter = 5000, learning_rate = 0.1):\n",
    "    weights = np.zeros(X.shape[1])\n",
    "    for _ in range(no_iter):\n",
    "        z =np.dot(X, weights)\n",
    "        h = sigmoid(z)\n",
    "        gradient_val = gradient(X, h, y)\n",
    "        weights -= learning_rate * gradient_val\n",
    "    \n",
    "    return weights\n",
    "\n",
    "iris = load_iris()\n",
    "X = iris.data[:, :2]\n",
    "y = (iris.target != 0) * 1\n",
    "\n",
    "\n",
    "\n",
    "X_train , X_test, y_train, y_test = train_test_split(X, y, test_size = 0.2, random_state = 42)\n",
    "sc = StandardScaler()\n",
    "x_train_std = sc.fit_transform(X_train)\n",
    "x_test_std = sc.transform(X_test)\n",
    "\n",
    "weights = logistic_reg(x_train_std, y_train)\n",
    "y_pred = sigmoid(np.dot(x_test_std, weights)) > 0.5\n",
    "\n",
    "print(f'Accuracy: {np.mean(y_pred == y_test):.4f}')\n",
    "\n",
    "x_min, x_max = x_train_std[:, 0].min()-1, x_train_std[:, 0].max()+1\n",
    "y_min, y_max = x_train_std[:, 1].min()-1, x_train_std[:, 1].max()+1\n",
    "\n",
    "xx, yy = np.meshgrid(np.arange(x_min, x_max, 0.1), np.arange(y_min, y_max, 0.1))\n",
    "\n",
    "Z= sigmoid(np.dot(np.c_[xx.ravel(), yy.ravel()], weights)) > 0.5\n",
    "Z = Z.reshape(xx.shape)\n",
    "\n",
    "plt.contourf(xx, yy, Z, alpha =0.4)\n",
    "\n",
    "plt.scatter(x_test_std[:, 0], x_test_std[:, 1], c=y_test, alpha=0.8)\n",
    "plt.title(\"Logistic Regression\")\n",
    "plt.xlabel(\"Sepal Length\")\n",
    "plt.ylabel(\"Sepal Width\")\n",
    "plt.show()"
   ]
  },
  {
   "cell_type": "code",
   "execution_count": null,
   "metadata": {},
   "outputs": [
    {
     "ename": "TypeError",
     "evalue": "unsupported operand type(s) for *: 'float' and 'NoneType'",
     "output_type": "error",
     "traceback": [
      "\u001b[1;31m---------------------------------------------------------------------------\u001b[0m\n",
      "\u001b[1;31mTypeError\u001b[0m                                 Traceback (most recent call last)\n",
      "Cell \u001b[1;32mIn[2], line 34\u001b[0m\n",
      "\u001b[0;32m     31\u001b[0m x_train_std \u001b[38;5;241m=\u001b[39m sc\u001b[38;5;241m.\u001b[39mfit_transform(X_train)\n",
      "\u001b[0;32m     32\u001b[0m x_test_std \u001b[38;5;241m=\u001b[39m sc\u001b[38;5;241m.\u001b[39mtransform(X_test)\n",
      "\u001b[1;32m---> 34\u001b[0m weights \u001b[38;5;241m=\u001b[39m \u001b[43mlogistic_reg\u001b[49m\u001b[43m(\u001b[49m\u001b[43mx_train_std\u001b[49m\u001b[43m,\u001b[49m\u001b[43m \u001b[49m\u001b[43my_train\u001b[49m\u001b[43m)\u001b[49m\n",
      "\u001b[0;32m     35\u001b[0m y_pred \u001b[38;5;241m=\u001b[39m sigmoid(np\u001b[38;5;241m.\u001b[39mdot(x_test_std, weights)) \u001b[38;5;241m>\u001b[39m \u001b[38;5;241m0.5\u001b[39m\n",
      "\u001b[0;32m     37\u001b[0m \u001b[38;5;28mprint\u001b[39m(\u001b[38;5;124mf\u001b[39m\u001b[38;5;124m'\u001b[39m\u001b[38;5;124mAccuracy: \u001b[39m\u001b[38;5;132;01m{\u001b[39;00mnp\u001b[38;5;241m.\u001b[39mmean(y_pred\u001b[38;5;250m \u001b[39m\u001b[38;5;241m==\u001b[39m\u001b[38;5;250m \u001b[39my_test)\u001b[38;5;132;01m:\u001b[39;00m\u001b[38;5;124m.4f\u001b[39m\u001b[38;5;132;01m}\u001b[39;00m\u001b[38;5;124m'\u001b[39m)\n",
      "\n",
      "Cell \u001b[1;32mIn[2], line 19\u001b[0m, in \u001b[0;36mlogistic_reg\u001b[1;34m(X, y, no_iter, learning_rate)\u001b[0m\n",
      "\u001b[0;32m     17\u001b[0m     h \u001b[38;5;241m=\u001b[39m sigmoid(z)\n",
      "\u001b[0;32m     18\u001b[0m     gradient_val \u001b[38;5;241m=\u001b[39m gradient(X, h, y)\n",
      "\u001b[1;32m---> 19\u001b[0m     weights \u001b[38;5;241m-\u001b[39m\u001b[38;5;241m=\u001b[39m \u001b[43mlearning_rate\u001b[49m\u001b[43m \u001b[49m\u001b[38;5;241;43m*\u001b[39;49m\u001b[43m \u001b[49m\u001b[43mgradient_val\u001b[49m\n",
      "\u001b[0;32m     21\u001b[0m \u001b[38;5;28;01mreturn\u001b[39;00m weights\n",
      "\n",
      "\u001b[1;31mTypeError\u001b[0m: unsupported operand type(s) for *: 'float' and 'NoneType'"
     ]
    }
   ],
   "source": [
    "import numpy as np\n",
    "import matplotlib.pyplot as plt\n",
    "from sklearn.datasets import load_iris\n",
    "from sklearn.preprocessing import StandardScaler\n",
    "from sklearn.model_selection import train_test_split\n",
    "\n",
    "def sigmoid(z):\n",
    "    return 1.0/(1.0 + np.exp(-z))\n",
    "def cost_func(h, y):\n",
    "    return (-y*np.log(h) - (1-y)*np.log(1-h)).mean()\n",
    "def gradient(X, h, y):\n",
    "    np.dot(X.T,(h-y))/(y.shape[0])\n",
    "def logistic_reg(X, y, no_iter = 5000, learning_rate = 0.1):\n",
    "    weights = np.zeros(X.shape[1])\n",
    "    for _ in range(no_iter):\n",
    "        z =np.dot(X, weights)\n",
    "        h = sigmoid(z)\n",
    "        gradient_val = gradient(X, h, y)\n",
    "        weights -= learning_rate * gradient_val\n",
    "    \n",
    "    return weights\n",
    "\n",
    "iris = load_iris()\n",
    "X = iris.data[:, :2]\n",
    "y = (iris.target != 0)\n",
    "\n",
    "\n",
    "\n",
    "X_train , X_test, y_train, y_test = train_test_split(X, y, test_size = 0.3, random_state = 1)\n",
    "sc = StandardScaler()\n",
    "x_train_std = sc.fit_transform(X_train)\n",
    "x_test_std = sc.transform(X_test)\n",
    "\n",
    "weights = logistic_reg(x_train_std, y_train)\n",
    "y_pred = sigmoid(np.dot(x_test_std, weights)) > 0.5\n",
    "\n",
    "print(f'Accuracy: {np.mean(y_pred == y_test):.4f}')\n",
    "\n",
    "# x_min, x_max = x_train_std[:, 0].min()-1, x_train_std[:, 0].max()+1\n",
    "# y_min, y_max = x_train_std[:, 1].min()-1, x_train_std[:, 1].max()+1\n",
    "\n",
    "# xx, yy = np.meshgrid(np.arange(x_min, x_max, 0.1), np.arange(y_min, y_max, 0.1))"
   ]
  },
  {
   "cell_type": "code",
   "execution_count": null,
   "metadata": {},
   "outputs": [
    {
     "ename": "TypeError",
     "evalue": "unsupported operand type(s) for *: 'float' and 'NoneType'",
     "output_type": "error",
     "traceback": [
      "\u001b[1;31m---------------------------------------------------------------------------\u001b[0m\n",
      "\u001b[1;31mTypeError\u001b[0m                                 Traceback (most recent call last)\n",
      "Cell \u001b[1;32mIn[2], line 34\u001b[0m\n",
      "\u001b[0;32m     31\u001b[0m x_train_std \u001b[38;5;241m=\u001b[39m sc\u001b[38;5;241m.\u001b[39mfit_transform(X_train)\n",
      "\u001b[0;32m     32\u001b[0m x_test_std \u001b[38;5;241m=\u001b[39m sc\u001b[38;5;241m.\u001b[39mtransform(X_test)\n",
      "\u001b[1;32m---> 34\u001b[0m weights \u001b[38;5;241m=\u001b[39m \u001b[43mlogistic_reg\u001b[49m\u001b[43m(\u001b[49m\u001b[43mx_train_std\u001b[49m\u001b[43m,\u001b[49m\u001b[43m \u001b[49m\u001b[43my_train\u001b[49m\u001b[43m)\u001b[49m\n",
      "\u001b[0;32m     35\u001b[0m y_pred \u001b[38;5;241m=\u001b[39m sigmoid(np\u001b[38;5;241m.\u001b[39mdot(x_test_std, weights)) \u001b[38;5;241m>\u001b[39m \u001b[38;5;241m0.5\u001b[39m\n",
      "\u001b[0;32m     37\u001b[0m \u001b[38;5;28mprint\u001b[39m(\u001b[38;5;124mf\u001b[39m\u001b[38;5;124m'\u001b[39m\u001b[38;5;124mAccuracy: \u001b[39m\u001b[38;5;132;01m{\u001b[39;00mnp\u001b[38;5;241m.\u001b[39mmean(y_pred\u001b[38;5;250m \u001b[39m\u001b[38;5;241m==\u001b[39m\u001b[38;5;250m \u001b[39my_test)\u001b[38;5;132;01m:\u001b[39;00m\u001b[38;5;124m.4f\u001b[39m\u001b[38;5;132;01m}\u001b[39;00m\u001b[38;5;124m'\u001b[39m)\n",
      "\n",
      "Cell \u001b[1;32mIn[2], line 19\u001b[0m, in \u001b[0;36mlogistic_reg\u001b[1;34m(X, y, no_iter, learning_rate)\u001b[0m\n",
      "\u001b[0;32m     17\u001b[0m     h \u001b[38;5;241m=\u001b[39m sigmoid(z)\n",
      "\u001b[0;32m     18\u001b[0m     gradient_val \u001b[38;5;241m=\u001b[39m gradient(X, h, y)\n",
      "\u001b[1;32m---> 19\u001b[0m     weights \u001b[38;5;241m-\u001b[39m\u001b[38;5;241m=\u001b[39m \u001b[43mlearning_rate\u001b[49m\u001b[43m \u001b[49m\u001b[38;5;241;43m*\u001b[39;49m\u001b[43m \u001b[49m\u001b[43mgradient_val\u001b[49m\n",
      "\u001b[0;32m     21\u001b[0m \u001b[38;5;28;01mreturn\u001b[39;00m weights\n",
      "\n",
      "\u001b[1;31mTypeError\u001b[0m: unsupported operand type(s) for *: 'float' and 'NoneType'"
     ]
    }
   ],
   "source": [
    "import numpy as np\n",
    "import matplotlib.pyplot as plt\n",
    "from sklearn.datasets import load_iris\n",
    "from sklearn.preprocessing import StandardScaler\n",
    "from sklearn.model_selection import train_test_split\n",
    "\n",
    "def sigmoid(z):\n",
    "    return 1.0/(1.0 + np.exp(-z))\n",
    "def cost_func(h, y):\n",
    "    return (-y*np.log(h) - (1-y)*np.log(1-h)).mean()\n",
    "def gradient(X, h, y):\n",
    "    np.dot(X.T,(h-y))/(y.shape[0])\n",
    "def logistic_reg(X, y, no_iter = 5000, learning_rate = 0.1):\n",
    "    weights = np.zeros(X.shape[1])\n",
    "    for _ in range(no_iter):\n",
    "        z =np.dot(X, weights)\n",
    "        h = sigmoid(z)\n",
    "        gradient_val = gradient(X, h, y)\n",
    "        weights -= learning_rate * gradient_val\n",
    "    \n",
    "    return weights\n",
    "\n",
    "iris = load_iris()\n",
    "X = iris.data[:, :2]\n",
    "y = (iris.target != 0)\n",
    "\n",
    "\n",
    "\n",
    "X_train , X_test, y_train, y_test = train_test_split(X, y, test_size = 0.3, random_state = 1)\n",
    "sc = StandardScaler()\n",
    "x_train_std = sc.fit_transform(X_train)\n",
    "x_test_std = sc.transform(X_test)\n",
    "\n",
    "weights = logistic_reg(x_train_std, y_train)\n",
    "y_pred = sigmoid(np.dot(x_test_std, weights)) > 0.5\n",
    "\n",
    "print(f'Accuracy: {np.mean(y_pred == y_test):.4f}')\n",
    "\n",
    "# x_min, x_max = x_train_std[:, 0].min()-1, x_train_std[:, 0].max()+1\n",
    "# y_min, y_max = x_train_std[:, 1].min()-1, x_train_std[:, 1].max()+1\n",
    "\n",
    "# xx, yy = np.meshgrid(np.arange(x_min, x_max, 0.1), np.arange(y_min, y_max, 0.1))"
   ]
  }
 ],
 "metadata": {
  "kernelspec": {
   "display_name": "Python 3",
   "language": "python",
   "name": "python3"
  },
  "language_info": {
   "codemirror_mode": {
    "name": "ipython",
    "version": 3
   },
   "file_extension": ".py",
   "mimetype": "text/x-python",
   "name": "python",
   "nbconvert_exporter": "python",
   "pygments_lexer": "ipython3",
   "version": "3.11.9"
  }
 },
 "nbformat": 4,
 "nbformat_minor": 2
}
