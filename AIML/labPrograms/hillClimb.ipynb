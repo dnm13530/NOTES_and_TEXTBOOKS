{
 "cells": [
  {
   "cell_type": "code",
   "execution_count": 1,
   "metadata": {},
   "outputs": [
    {
     "name": "stdout",
     "output_type": "stream",
     "text": [
      "Invalid function. Please try again. Error: invalid syntax (<string>, line 1)\n",
      "Maxima found at x = 2.5\n",
      "Maximum value = 16.25\n"
     ]
    }
   ],
   "source": [
    "def hill_climbing(func, start, step=0.01, max_iter=1000):\n",
    "    x = start\n",
    "    for _ in range(max_iter):\n",
    "        fx = func(x)\n",
    "        fx_positive = func(x + step)\n",
    "        fx_negative = func(x - step)\n",
    "\n",
    "        if fx_positive > fx and fx_positive >= fx_negative:\n",
    "            x += step\n",
    "        elif fx_negative > fx and fx_negative > fx_positive:\n",
    "            x -= step\n",
    "        else:\n",
    "            break\n",
    "    return x, func(x)\n",
    "\n",
    "if __name__ == \"__main__\":\n",
    "    while True:\n",
    "        try:\n",
    "            func_str = input(\"Enter a function of x (e.g., -(x-2)**2 + 4): \")\n",
    "            func = eval(f\"lambda x: {func_str}\")  # Convert string to function\n",
    "            func(0)  # Test the function with x = 0\n",
    "            break\n",
    "        except Exception as e:\n",
    "            print(f\"Invalid function. Please try again. Error: {e}\")\n",
    "\n",
    "    while True:\n",
    "        try:\n",
    "            start = float(input(\"Enter the starting value (e.g., 0): \"))\n",
    "            break\n",
    "        except ValueError:\n",
    "            print(\"Invalid input. Please enter a valid number.\")\n",
    "\n",
    "    max_x, max_val = hill_climbing(func, start)\n",
    "    print(f\"Maxima found at x = {max_x}\")\n",
    "    print(f\"Maximum value = {max_val}\")"
   ]
  },
  {
   "cell_type": "code",
   "execution_count": null,
   "metadata": {},
   "outputs": [],
   "source": [
    "# f(x) = -x^2 + 4x;, start = 2.5, step size : 0.01, iterations: 1000 // ans : 16.25\n",
    "# f(x) - x^2 +5x + 10 , start = 2.5; // ans: "
   ]
  }
 ],
 "metadata": {
  "kernelspec": {
   "display_name": ".venv",
   "language": "python",
   "name": "python3"
  },
  "language_info": {
   "codemirror_mode": {
    "name": "ipython",
    "version": 3
   },
   "file_extension": ".py",
   "mimetype": "text/x-python",
   "name": "python",
   "nbconvert_exporter": "python",
   "pygments_lexer": "ipython3",
   "version": "3.12.4"
  }
 },
 "nbformat": 4,
 "nbformat_minor": 2
}
